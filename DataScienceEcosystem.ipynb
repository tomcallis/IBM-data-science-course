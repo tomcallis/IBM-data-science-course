{
 "cells": [
  {
   "cell_type": "markdown",
   "id": "6fe2ac12-a79d-45d1-97cc-9323edfbb452",
   "metadata": {},
   "source": [
    "# Data Science Tools and Ecosystem"
   ]
  },
  {
   "cell_type": "markdown",
   "id": "a1092a0b-8f5d-4d5b-96f0-dc5959cd4898",
   "metadata": {
    "tags": []
   },
   "source": [
    "## Author\n",
    "Tom Callis"
   ]
  },
  {
   "cell_type": "markdown",
   "id": "66e3f264-d36f-44cc-94ae-43a6b922730f",
   "metadata": {},
   "source": [
    "In this notebook, Data Science Tools and Ecosystem are summarized."
   ]
  },
  {
   "cell_type": "markdown",
   "id": "7c8ae55d-891a-44ef-bbdb-e13409a3b06a",
   "metadata": {},
   "source": [
    "**Objectives:**\n",
    "\n",
    "- List popular languages for Data Science.\n",
    "- Describe commonly used libraries in Data Science.\n",
    "- Provide examples of arithmetic expressions in Python."
   ]
  },
  {
   "cell_type": "markdown",
   "id": "814292ad-b7ff-46ce-8aad-ee31e15f60f1",
   "metadata": {},
   "source": [
    "Some of the popular languages that Data Scientists use are:\n",
    "1. Python\n",
    "2. R\n",
    "3. SQL\n",
    "4. Julia"
   ]
  },
  {
   "cell_type": "markdown",
   "id": "4dc81b7a-ae6a-4c16-b422-1356f4ed5afa",
   "metadata": {},
   "source": [
    "Some of the commonly used libraries used by Data Scientists include:\n",
    "1. Pandas\n",
    "2. NumPy\n",
    "3. Matplotlib\n",
    "4. Scikit-learn"
   ]
  },
  {
   "cell_type": "markdown",
   "id": "e368c4c0-e745-4e94-82b6-3faa2386bf9b",
   "metadata": {},
   "source": [
    "| Data Science Tools  |\n",
    "|---------------------|\n",
    "| Jupyter Notebook    |\n",
    "| RStudio             |\n",
    "| Apache Zeppelin     |"
   ]
  },
  {
   "cell_type": "markdown",
   "id": "e21fff60-39a3-4593-9292-61d8cef85082",
   "metadata": {},
   "source": [
    "### Below are a few examples of evaluating arithmetic expressions in Python.\n",
    "\n",
    "- **Addition**: `3 + 4` results in `7`\n",
    "- **Subtraction**: `10 - 5` results in `5`\n",
    "- **Multiplication**: `6 * 7` results in `42`\n",
    "- **Division**: `8 / 2` results in `4`"
   ]
  },
  {
   "cell_type": "code",
   "execution_count": 1,
   "id": "fd5b8045-2820-428f-9afc-09d60af8b523",
   "metadata": {
    "tags": []
   },
   "outputs": [
    {
     "data": {
      "text/plain": [
       "17"
      ]
     },
     "execution_count": 1,
     "metadata": {},
     "output_type": "execute_result"
    }
   ],
   "source": [
    "#This a simple arithmetic expression to mutiply then add integers. \n",
    "(3*4)+5"
   ]
  },
  {
   "cell_type": "code",
   "execution_count": 2,
   "id": "6693b736-5456-4ee6-82f2-82d93c884e36",
   "metadata": {
    "tags": []
   },
   "outputs": [
    {
     "data": {
      "text/plain": [
       "3.3333333333333335"
      ]
     },
     "execution_count": 2,
     "metadata": {},
     "output_type": "execute_result"
    }
   ],
   "source": [
    "# This will convert 200 minutes to hours by diving by 60\n",
    "200/60"
   ]
  }
 ],
 "metadata": {
  "kernelspec": {
   "display_name": "Python",
   "language": "python",
   "name": "conda-env-python-py"
  },
  "language_info": {
   "codemirror_mode": {
    "name": "ipython",
    "version": 3
   },
   "file_extension": ".py",
   "mimetype": "text/x-python",
   "name": "python",
   "nbconvert_exporter": "python",
   "pygments_lexer": "ipython3",
   "version": "3.7.12"
  }
 },
 "nbformat": 4,
 "nbformat_minor": 5
}
